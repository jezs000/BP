{
 "cells": [
  {
   "cell_type": "code",
   "execution_count": 5,
   "id": "bc18b993-6266-48a6-8491-3ca6c854d0af",
   "metadata": {},
   "outputs": [
    {
     "name": "stdout",
     "output_type": "stream",
     "text": [
      "✅ Výstup byl uložen do 'model_output.txt'\n"
     ]
    }
   ],
   "source": [
    "import pandas as pd\n",
    "import torch\n",
    "from transformers import AutoTokenizer, AutoModelForCausalLM\n",
    "\n",
    "# Načtení modelu po fine-tuningu a vstupních dat\n",
    "base_model_path = \"Qwen/Qwen1.5-1.8B-Chat\"  # nahraď podle potřeby\n",
    "csv_file = \"CSV-Hashed.csv\"\n",
    "\n",
    "# Načtení base modelu\n",
    "model = AutoModelForCausalLM.from_pretrained(\n",
    "    base_model_path,\n",
    "    device_map=\"auto\",\n",
    "    torch_dtype=torch.float16,\n",
    "    trust_remote_code=True\n",
    ")\n",
    "model.eval()\n",
    "\n",
    "# Načtení tokenizeru\n",
    "tokenizer = AutoTokenizer.from_pretrained(\n",
    "    base_model_path,\n",
    "    trust_remote_code=True\n",
    ")\n",
    "\n",
    "# Načtení CSV jako text\n",
    "df = pd.read_csv(csv_file)\n",
    "csv_text = df.to_csv(index=False)\n",
    "\n",
    "# Tvorba promptu pro Gwen\n",
    "qwen_prompt = tokenizer.apply_chat_template(\n",
    "    [\n",
    "        {\"role\": \"system\", \"content\": \"You are a data analyst who always returns frequent itemsets in a clean format (no code).\"},\n",
    "        {\"role\": \"user\", \"content\": f\"I will give you CSV and your job is to find frequent itemsets of maxlenght 5 with support 0.75. Do not use any code, it is your job to do!<csv>{csv_text}</csv>\"}\n",
    "    ],\n",
    "    tokenize=False,\n",
    "    add_generation_prompt=True\n",
    ")\n",
    "\n",
    "# Tokenizace vstupu\n",
    "inputs = tokenizer(qwen_prompt, return_tensors=\"pt\").to(model.device)\n",
    "\n",
    "# Generování výstupu\n",
    "with torch.no_grad():\n",
    "    outputs = model.generate(\n",
    "        **inputs,\n",
    "        max_new_tokens=10000,  # Zvolena vysoká hodnota pro možnost generování rozsáhlých odpovědí\n",
    "        temperature=1, # nebo 0.001, nebo 0.5\n",
    "        do_sample=True,\n",
    "        eos_token_id=tokenizer.eos_token_id,\n",
    "        use_cache=True\n",
    "    )\n",
    "    \n",
    "# Dekódování výstupu modelu do normálního textu\n",
    "decoded_output = tokenizer.decode(outputs[0], skip_special_tokens=True)\n",
    "\n",
    "# Uložení výsledku\n",
    "with open(\"model_output.txt\", \"w\", encoding=\"utf-8\") as f:\n",
    "    f.write(decoded_output)\n",
    "\n",
    "print(\"Výstup byl uložen do 'model_output.txt'\")\n"
   ]
  },
  {
   "cell_type": "code",
   "execution_count": null,
   "id": "3460479d-f269-4b88-a39e-1dc005966a92",
   "metadata": {},
   "outputs": [],
   "source": []
  }
 ],
 "metadata": {
  "kernelspec": {
   "display_name": "Python 3 (ipykernel)",
   "language": "python",
   "name": "python3"
  },
  "language_info": {
   "codemirror_mode": {
    "name": "ipython",
    "version": 3
   },
   "file_extension": ".py",
   "mimetype": "text/x-python",
   "name": "python",
   "nbconvert_exporter": "python",
   "pygments_lexer": "ipython3",
   "version": "3.10.16"
  }
 },
 "nbformat": 4,
 "nbformat_minor": 5
}
