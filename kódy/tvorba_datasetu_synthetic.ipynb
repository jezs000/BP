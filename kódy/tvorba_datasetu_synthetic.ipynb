{
 "cells": [
  {
   "cell_type": "code",
   "execution_count": 16,
   "id": "1be53dc4-f419-4598-b2c3-556b1f3e44a0",
   "metadata": {},
   "outputs": [],
   "source": [
    "import json\n",
    "import re\n",
    "import pandas as pd\n",
    "from mlxtend.frequent_patterns import apriori\n",
    "from io import StringIO\n",
    "\n",
    "# načtení vstupních dat (soubor json s náhodnými CSV od ChatGPT)\n",
    "input_file = \"empty_synthetic.json\"\n",
    "output_file = \"synthetic.json\"\n",
    "\n",
    "# Definice funkce pro vyplňování datasetu\n",
    "def process_prompt(prompt):\n",
    "    import json\n",
    "    import pandas as pd\n",
    "    from mlxtend.frequent_patterns import apriori\n",
    "    from io import StringIO\n",
    "    import re\n",
    "\n",
    "    # Nalezení <csv>...</csv>\n",
    "    csv_match = re.search(r\"<csv>(.*?)</csv>\", prompt, re.DOTALL)\n",
    "    if not csv_match:\n",
    "        return \"CSV data not found.\"\n",
    "    csv_text = csv_match.group(1).strip()\n",
    "\n",
    "    # Nalezení support (číslo po \"support \")\n",
    "    support_match = re.search(r\"support\\s+([0-9]*\\.?[0-9]+)\", prompt)\n",
    "    if not support_match:\n",
    "        return \"Support value not found.\"\n",
    "    support_value = float(support_match.group(1))\n",
    "\n",
    "    # Načtení CSV\n",
    "    try:\n",
    "        df = pd.read_csv(StringIO(csv_text))\n",
    "    except Exception as e:\n",
    "        return f\"CSV read error: {e}\"\n",
    "\n",
    "    # Převedení každého řádku na seznam položek ve formátu \"Sloupec_Hodnota\"\n",
    "    transactions = []\n",
    "    for _, row in df.iterrows():\n",
    "        trans = []\n",
    "        for col in df.columns:\n",
    "            val = row[col]\n",
    "            if pd.notna(val):\n",
    "                trans.append(f\"{col}_{val}\")\n",
    "        transactions.append(trans)\n",
    "\n",
    "    # One-hot encoding pro algoritmus apriori\n",
    "    all_items = sorted(set(item for t in transactions for item in t))\n",
    "    encoded_df = pd.DataFrame([\n",
    "        {item: item in t for item in all_items}\n",
    "        for t in transactions\n",
    "    ])\n",
    "\n",
    "    # Spuštění apriori\n",
    "    try:\n",
    "        freq_items = apriori(encoded_df, min_support=support_value, use_colnames=True)\n",
    "\n",
    "        # Převod frozenset → seřazený string (rozdílné datové typy mezi pandas DataFrame a vstupem pro apriori)\n",
    "        freq_items['itemsets'] = freq_items['itemsets'].apply(lambda x: \", \".join(sorted(list(x))))\n",
    "\n",
    "        # Vytvoření textové výstupní tabulky\n",
    "        output_lines = [\"support\\titemsets\"]\n",
    "        for _, row in freq_items.iterrows():\n",
    "            output_lines.append(f\"{row['support']:.3f}\\t{row['itemsets']}\")\n",
    "        return \"\\n\".join(output_lines)\n",
    "        # Zachycení chyb\n",
    "    except Exception as e:\n",
    "        return f\"Apriori error: {e}\"\n",
    "\n",
    "\n",
    "\n",
    "# Zpracování řádku po řádku (NDJSON)\n",
    "output_lines = []\n",
    "with open(input_file, \"r\", encoding=\"utf-8\") as infile:\n",
    "    for line in infile:\n",
    "        line = line.strip()\n",
    "        if not line:\n",
    "            continue\n",
    "        try:\n",
    "            entry = json.loads(line)\n",
    "            prompt = entry.get(\"prompt\", \"\")\n",
    "            entry[\"response\"] = process_prompt(prompt)\n",
    "            output_lines.append(json.dumps(entry, ensure_ascii=False))\n",
    "        except Exception as e:\n",
    "            print(f\"Chyba při zpracování řádku: {e}\")\n",
    "\n",
    "# Uložení výstupu\n",
    "with open(output_file, \"w\", encoding=\"utf-8\") as outfile:\n",
    "    outfile.write(\"\\n\".join(output_lines))\n",
    "\n"
   ]
  },
  {
   "cell_type": "code",
   "execution_count": 17,
   "id": "4593988a-9816-4ad4-8a0c-30e50e5a5321",
   "metadata": {},
   "outputs": [
    {
     "data": {
      "application/vnd.jupyter.widget-view+json": {
       "model_id": "57f6c02bba9c421bb2ed70fdc4b11398",
       "version_major": 2,
       "version_minor": 0
      },
      "text/plain": [
       "Generating train split: 0 examples [00:00, ? examples/s]"
      ]
     },
     "metadata": {},
     "output_type": "display_data"
    },
    {
     "name": "stdout",
     "output_type": "stream",
     "text": [
      "{'prompt': 'I will give you CSV and your job is to find frequent itemsets of maxlenght 5 with support 0.143. Do not use any code, it is your job to do! <csv>Col1,Col2,Col3,Col4,Col5,Col6,Col7,Col8\\nE,E,D,E,C,D,A,B\\nD,E,A,D,A,E,C,A\\nC,E,A,D,E,B,B,A\\nE,D,D,A,D,D,D,B\\nA,C,B,A,B,B,A,C\\nD,C,E,D,D,E,D,D\\nD,D,B,E,E,A,B,B\\nA,D,B,D,C,B,C,B\\nA,A,B,D,E,D,C,A\\nE,C,B,B,B,C,E,D\\nB,A,E,D,A,C,C,A\\nD,A,D,C,C,C,B,B\\nA,D,D,E,B,E,A,C\\nD,C,E,B,A,B,B,B\\nD,B,C,A,B,C,B,A\\nD,D,E,E,D,C,E,D\\nE,E,A,D,C,A,C,E\\nE,D,C,E,A,E,A,B\\nC,E,E,A,E,B,E,C\\nC,A,C,A,A,A,B,D\\nD,D,A,A,A,A,B,D\\nB,C,A,E,A,D,E,B\\nA,D,C,D,B,C,B,E\\nB,B,D,D,D,B,E,B</csv>', 'response': 'support\\titemsets\\n0.208\\tCol1_A\\n0.333\\tCol1_D\\n0.208\\tCol1_E\\n0.167\\tCol2_A\\n0.208\\tCol2_C\\n0.333\\tCol2_D\\n0.208\\tCol2_E\\n0.208\\tCol3_A\\n0.208\\tCol3_B\\n0.167\\tCol3_C\\n0.208\\tCol3_D\\n0.208\\tCol3_E\\n0.250\\tCol4_A\\n0.375\\tCol4_D\\n0.250\\tCol4_E\\n0.292\\tCol5_A\\n0.208\\tCol5_B\\n0.167\\tCol5_C\\n0.167\\tCol5_D\\n0.167\\tCol5_E\\n0.167\\tCol6_A\\n0.250\\tCol6_B\\n0.250\\tCol6_C\\n0.167\\tCol6_D\\n0.167\\tCol6_E\\n0.167\\tCol7_A\\n0.333\\tCol7_B\\n0.208\\tCol7_C\\n0.208\\tCol7_E\\n0.208\\tCol8_A\\n0.375\\tCol8_B\\n0.208\\tCol8_D\\n0.208\\tCol1_D, Col7_B\\n0.167\\tCol2_D, Col4_E\\n0.167\\tCol2_D, Col8_B\\n0.167\\tCol3_D, Col8_B\\n0.208\\tCol4_D, Col7_C\\n0.167\\tCol4_D, Col8_A\\n0.167\\tCol4_E, Col8_B'}\n"
     ]
    }
   ],
   "source": [
    "from datasets import load_dataset\n",
    "dataset = load_dataset(\"json\", data_files=\"output.json\")\n",
    "print(dataset['train'][0])"
   ]
  },
  {
   "cell_type": "code",
   "execution_count": null,
   "id": "b0c6ba59-b8f8-447b-b260-abf22a572187",
   "metadata": {},
   "outputs": [],
   "source": []
  }
 ],
 "metadata": {
  "kernelspec": {
   "display_name": "Python 3 (ipykernel)",
   "language": "python",
   "name": "python3"
  },
  "language_info": {
   "codemirror_mode": {
    "name": "ipython",
    "version": 3
   },
   "file_extension": ".py",
   "mimetype": "text/x-python",
   "name": "python",
   "nbconvert_exporter": "python",
   "pygments_lexer": "ipython3",
   "version": "3.10.16"
  }
 },
 "nbformat": 4,
 "nbformat_minor": 5
}
