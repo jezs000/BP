{
 "cells": [
  {
   "cell_type": "code",
   "execution_count": 93,
   "id": "59e48317-b404-4ceb-8349-b071c36e5e97",
   "metadata": {},
   "outputs": [
    {
     "name": "stdout",
     "output_type": "stream",
     "text": [
      "Hotovo! Header zachován a náhrady provedeny.\n"
     ]
    }
   ],
   "source": [
    "import re\n",
    "import random\n",
    "import string\n",
    "\n",
    "# Fuknce pro znáhodnění textu\n",
    "def random_string(length=12):\n",
    "    chars = string.ascii_letters + string.digits\n",
    "    return ''.join(random.choices(chars, k=length))\n",
    "\n",
    "# Načtení vstupního souboru\n",
    "with open(\"název_dat.json\", \"r\", encoding=\"utf-8\") as f:\n",
    "    content = f.read()\n",
    "\n",
    "# Hledání obasahu v <csv> </csv>\n",
    "csv_match = re.search(r\"<csv>(.*?)</csv>\", content, re.DOTALL)\n",
    "if not csv_match:\n",
    "    print(\"CSV tag nenalezen.\")\n",
    "    exit()\n",
    "csv_text = csv_match.group(1)\n",
    "csv_lines = csv_text.strip().splitlines()\n",
    "\n",
    "# První řádek zachovat jako header\n",
    "header = csv_lines[0]\n",
    "entries = []\n",
    "# Rozdělení po řádcích a zachování čárek a enterů na konco řádku\n",
    "for line in csv_lines[1:]:\n",
    "    entries.extend([e.strip() for e in line.split(',') if e.strip()])\n",
    "\n",
    "# Generování náhodných náhrad\n",
    "replacements = {entry: random_string() for entry in set(entries)}\n",
    "\n",
    "# Nahrazování výskytů v celém souboru\n",
    "def replace_words(text, mapping):\n",
    "    sorted_keys = sorted(mapping.keys(), key=len, reverse=True) \n",
    "    for k in sorted_keys:\n",
    "        text = re.sub(re.escape(k), mapping[k], text)\n",
    "    return text\n",
    "\n",
    "# Nahradit mimo <csv> nejdřív (nahrazení stejných hodnot v části response (výsledky apri\n",
    "before_csv = content[:csv_match.start()]\n",
    "after_csv = content[csv_match.end():]\n",
    "before_csv = replace_words(before_csv, replacements)\n",
    "after_csv = replace_words(after_csv, replacements)\n",
    "\n",
    "# Sestavit novou CSV sekci\n",
    "csv_body = '\\n'.join([\n",
    "    ','.join(replacements.get(e.strip(), e.strip()) for e in line.split(','))\n",
    "    for line in csv_lines[1:]\n",
    "])\n",
    "csv_final = f\"<csv>\\n{header}\\n{csv_body}\\n</csv>\"\n",
    "\n",
    "# Sestav finální text\n",
    "final_content = before_csv + csv_final + after_csv\n",
    "\n",
    "# === Ulož výsledek ===\n",
    "with open(\"vystup_final_zachovano_header.txt\", \"w\", encoding=\"utf-8\") as f:\n",
    "    f.write(final_content)\n",
    "\n",
    "print(\"Hotovo! Header zachován a náhrady provedeny.\")\n"
   ]
  },
  {
   "cell_type": "code",
   "execution_count": null,
   "id": "8d6f14cc-0c16-4cca-be5c-3512b83c3153",
   "metadata": {},
   "outputs": [],
   "source": []
  },
  {
   "cell_type": "code",
   "execution_count": null,
   "id": "1eb735ee-aa54-42b5-b684-dd0c6aa7bc69",
   "metadata": {},
   "outputs": [],
   "source": []
  },
  {
   "cell_type": "code",
   "execution_count": null,
   "id": "8b933925-0e8d-46bb-9a12-75bd51f60d0b",
   "metadata": {},
   "outputs": [],
   "source": []
  }
 ],
 "metadata": {
  "kernelspec": {
   "display_name": "Python 3 (ipykernel)",
   "language": "python",
   "name": "python3"
  },
  "language_info": {
   "codemirror_mode": {
    "name": "ipython",
    "version": 3
   },
   "file_extension": ".py",
   "mimetype": "text/x-python",
   "name": "python",
   "nbconvert_exporter": "python",
   "pygments_lexer": "ipython3",
   "version": "3.10.16"
  }
 },
 "nbformat": 4,
 "nbformat_minor": 5
}
