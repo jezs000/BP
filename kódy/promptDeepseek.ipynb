{
 "cells": [
  {
   "cell_type": "code",
   "execution_count": 2,
   "id": "a92af07f-7cea-4016-826f-2ff063a6b2df",
   "metadata": {},
   "outputs": [
    {
     "data": {
      "application/vnd.jupyter.widget-view+json": {
       "model_id": "6af12e18e57a4b10a87f2dd773eb2650",
       "version_major": 2,
       "version_minor": 0
      },
      "text/plain": [
       "Loading checkpoint shards:   0%|          | 0/2 [00:00<?, ?it/s]"
      ]
     },
     "metadata": {},
     "output_type": "display_data"
    },
    {
     "name": "stderr",
     "output_type": "stream",
     "text": [
      "Setting `pad_token_id` to `eos_token_id`:151643 for open-end generation.\n"
     ]
    },
    {
     "name": "stdout",
     "output_type": "stream",
     "text": [
      "✅ Výstup byl uložen do 'model_output.txt'\n"
     ]
    }
   ],
   "source": [
    "import pandas as pd\n",
    "import torch\n",
    "from transformers import AutoTokenizer, AutoModelForCausalLM\n",
    "from peft import PeftModel, PeftConfig\n",
    "\n",
    "# Cesta k LoRA modelu\n",
    "lora_path = \"./final_synthetic_deepseek\"\n",
    "\n",
    "# Načtení konfigurace LoRA modelu\n",
    "peft_config = PeftConfig.from_pretrained(lora_path)\n",
    "\n",
    "# Načtení base modelu\n",
    "base_model = AutoModelForCausalLM.from_pretrained(\n",
    "    peft_config.base_model_name_or_path,\n",
    "    device_map=\"auto\",\n",
    "    torch_dtype=torch.float16,\n",
    "    trust_remote_code=True\n",
    ")\n",
    "\n",
    "# Připojení LoRA adapteru\n",
    "model = PeftModel.from_pretrained(base_model, lora_path)\n",
    "\n",
    "# Načtení tokenizeru\n",
    "tokenizer = AutoTokenizer.from_pretrained(peft_config.base_model_name_or_path, trust_remote_code=True)\n",
    "\n",
    "# Zpracování CSV a vytvoření promptu\n",
    "df = pd.read_csv(\"CSV-Hashed.csv\")  \n",
    "csv_text = df.to_csv(index=False) \n",
    "prompt = f\"I will give you CSV and your job is to find frequent itemsets of maxlenght 5 with support 0.75. Do not use any code, it is your job to do!<csv>\\n{csv_text}\\n</csv>\\n\"\n",
    "\n",
    "# Tokenizace vstupu\n",
    "inputs = tokenizer(prompt, return_tensors=\"pt\").to(model.device)\n",
    "\n",
    "# Generování odpovědi\n",
    "with torch.no_grad():\n",
    "    outputs = model.generate(**inputs, max_new_tokens=5000)  # Zvolena vysoká hodnota pro možnost generování rozsáhlých odpovědí. Vyšší hodnota způsobovala zamrznutí modelu (nízká VRAM)\n",
    "    decoded_output = tokenizer.decode(outputs[0], skip_special_tokens=True)\n",
    "    temperature=1 # nebo 0, nebo 0.5\n",
    "\n",
    "# Uložení výsledku\n",
    "with open(\"model_output.txt\", \"w\", encoding=\"utf-8\") as f:\n",
    "    f.write(decoded_output)\n",
    "\n",
    "print(\"Výstup byl uložen do 'model_output.txt'\")"
   ]
  },
  {
   "cell_type": "code",
   "execution_count": null,
   "id": "4c4a8c2e-67b6-4231-be80-7d97979b0af4",
   "metadata": {},
   "outputs": [],
   "source": []
  },
  {
   "cell_type": "code",
   "execution_count": null,
   "id": "2a85c6a8-b76a-4013-9909-f7fa485e5b46",
   "metadata": {},
   "outputs": [],
   "source": []
  },
  {
   "cell_type": "code",
   "execution_count": null,
   "id": "467cdd9e-2c95-4e47-b644-21fd721ad897",
   "metadata": {},
   "outputs": [],
   "source": []
  }
 ],
 "metadata": {
  "kernelspec": {
   "display_name": "Python 3 (ipykernel)",
   "language": "python",
   "name": "python3"
  },
  "language_info": {
   "codemirror_mode": {
    "name": "ipython",
    "version": 3
   },
   "file_extension": ".py",
   "mimetype": "text/x-python",
   "name": "python",
   "nbconvert_exporter": "python",
   "pygments_lexer": "ipython3",
   "version": "3.10.16"
  }
 },
 "nbformat": 4,
 "nbformat_minor": 5
}
