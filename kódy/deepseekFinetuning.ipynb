{
 "cells": [
  {
   "cell_type": "code",
   "execution_count": 1,
   "id": "2411327b-1a7d-4da5-a2c4-01c4d784e734",
   "metadata": {
    "scrolled": true
   },
   "outputs": [
    {
     "name": "stderr",
     "output_type": "stream",
     "text": [
      "/opt/tljh/user/lib/python3.10/site-packages/torch/utils/_pytree.py:185: FutureWarning: optree is installed but the version is too old to support PyTorch Dynamo in C++ pytree. C++ pytree support is disabled. Please consider upgrading optree using `python3 -m pip install --upgrade 'optree>=0.13.0'`.\n",
      "  warnings.warn(\n",
      "2025-04-17 13:01:23.212174: I tensorflow/core/util/port.cc:153] oneDNN custom operations are on. You may see slightly different numerical results due to floating-point round-off errors from different computation orders. To turn them off, set the environment variable `TF_ENABLE_ONEDNN_OPTS=0`.\n",
      "2025-04-17 13:01:23.223948: E external/local_xla/xla/stream_executor/cuda/cuda_fft.cc:467] Unable to register cuFFT factory: Attempting to register factory for plugin cuFFT when one has already been registered\n",
      "WARNING: All log messages before absl::InitializeLog() is called are written to STDERR\n",
      "E0000 00:00:1744887683.236742 2221960 cuda_dnn.cc:8579] Unable to register cuDNN factory: Attempting to register factory for plugin cuDNN when one has already been registered\n",
      "E0000 00:00:1744887683.241046 2221960 cuda_blas.cc:1407] Unable to register cuBLAS factory: Attempting to register factory for plugin cuBLAS when one has already been registered\n",
      "W0000 00:00:1744887683.253009 2221960 computation_placer.cc:177] computation placer already registered. Please check linkage and avoid linking the same target more than once.\n",
      "W0000 00:00:1744887683.253023 2221960 computation_placer.cc:177] computation placer already registered. Please check linkage and avoid linking the same target more than once.\n",
      "W0000 00:00:1744887683.253025 2221960 computation_placer.cc:177] computation placer already registered. Please check linkage and avoid linking the same target more than once.\n",
      "W0000 00:00:1744887683.253027 2221960 computation_placer.cc:177] computation placer already registered. Please check linkage and avoid linking the same target more than once.\n",
      "2025-04-17 13:01:23.257802: I tensorflow/core/platform/cpu_feature_guard.cc:210] This TensorFlow binary is optimized to use available CPU instructions in performance-critical operations.\n",
      "To enable the following instructions: AVX2 AVX512F AVX512_VNNI AVX512_BF16 FMA, in other operations, rebuild TensorFlow with the appropriate compiler flags.\n",
      "Sliding Window Attention is enabled but not implemented for `sdpa`; unexpected results may be encountered.\n"
     ]
    },
    {
     "data": {
      "application/vnd.jupyter.widget-view+json": {
       "model_id": "4ec07c51ee89421694454f8450744546",
       "version_major": 2,
       "version_minor": 0
      },
      "text/plain": [
       "Loading checkpoint shards:   0%|          | 0/2 [00:00<?, ?it/s]"
      ]
     },
     "metadata": {},
     "output_type": "display_data"
    },
    {
     "data": {
      "application/vnd.jupyter.widget-view+json": {
       "model_id": "cbd95fe438bd48fcb0a7d555e4eb0edf",
       "version_major": 2,
       "version_minor": 0
      },
      "text/plain": [
       "Map:   0%|          | 0/261 [00:00<?, ? examples/s]"
      ]
     },
     "metadata": {},
     "output_type": "display_data"
    },
    {
     "data": {
      "application/vnd.jupyter.widget-view+json": {
       "model_id": "4683c580203d4fe2a6a86983b29f92e7",
       "version_major": 2,
       "version_minor": 0
      },
      "text/plain": [
       "Map:   0%|          | 0/29 [00:00<?, ? examples/s]"
      ]
     },
     "metadata": {},
     "output_type": "display_data"
    },
    {
     "name": "stderr",
     "output_type": "stream",
     "text": [
      "/opt/tljh/user/lib/python3.10/site-packages/transformers/training_args.py:1594: FutureWarning: `evaluation_strategy` is deprecated and will be removed in version 4.46 of 🤗 Transformers. Use `eval_strategy` instead\n",
      "  warnings.warn(\n",
      "/tmp/ipykernel_2221960/2078841516.py:59: FutureWarning: `tokenizer` is deprecated and will be removed in version 5.0.0 for `Trainer.__init__`. Use `processing_class` instead.\n",
      "  trainer = Trainer(\n",
      "No label_names provided for model class `PeftModelForCausalLM`. Since `PeftModel` hides base models input arguments, if label_names is not given, label_names can't be set automatically within `Trainer`. Note that empty label_names list will be used instead.\n"
     ]
    },
    {
     "data": {
      "text/html": [
       "\n",
       "    <div>\n",
       "      \n",
       "      <progress value='4437' max='4437' style='width:300px; height:20px; vertical-align: middle;'></progress>\n",
       "      [4437/4437 17:59, Epoch 17/17]\n",
       "    </div>\n",
       "    <table border=\"1\" class=\"dataframe\">\n",
       "  <thead>\n",
       " <tr style=\"text-align: left;\">\n",
       "      <th>Epoch</th>\n",
       "      <th>Training Loss</th>\n",
       "      <th>Validation Loss</th>\n",
       "    </tr>\n",
       "  </thead>\n",
       "  <tbody>\n",
       "    <tr>\n",
       "      <td>1</td>\n",
       "      <td>0.666800</td>\n",
       "      <td>0.618648</td>\n",
       "    </tr>\n",
       "    <tr>\n",
       "      <td>2</td>\n",
       "      <td>0.505800</td>\n",
       "      <td>0.470173</td>\n",
       "    </tr>\n",
       "    <tr>\n",
       "      <td>3</td>\n",
       "      <td>0.402000</td>\n",
       "      <td>0.389869</td>\n",
       "    </tr>\n",
       "    <tr>\n",
       "      <td>4</td>\n",
       "      <td>0.412900</td>\n",
       "      <td>0.346089</td>\n",
       "    </tr>\n",
       "    <tr>\n",
       "      <td>5</td>\n",
       "      <td>0.324400</td>\n",
       "      <td>0.307330</td>\n",
       "    </tr>\n",
       "    <tr>\n",
       "      <td>6</td>\n",
       "      <td>0.280000</td>\n",
       "      <td>0.283239</td>\n",
       "    </tr>\n",
       "    <tr>\n",
       "      <td>7</td>\n",
       "      <td>0.274000</td>\n",
       "      <td>0.271806</td>\n",
       "    </tr>\n",
       "    <tr>\n",
       "      <td>8</td>\n",
       "      <td>0.213800</td>\n",
       "      <td>0.266345</td>\n",
       "    </tr>\n",
       "    <tr>\n",
       "      <td>9</td>\n",
       "      <td>0.256900</td>\n",
       "      <td>0.256566</td>\n",
       "    </tr>\n",
       "    <tr>\n",
       "      <td>10</td>\n",
       "      <td>0.186800</td>\n",
       "      <td>0.254705</td>\n",
       "    </tr>\n",
       "    <tr>\n",
       "      <td>11</td>\n",
       "      <td>0.202100</td>\n",
       "      <td>0.254302</td>\n",
       "    </tr>\n",
       "    <tr>\n",
       "      <td>12</td>\n",
       "      <td>0.219000</td>\n",
       "      <td>0.256330</td>\n",
       "    </tr>\n",
       "    <tr>\n",
       "      <td>13</td>\n",
       "      <td>0.146800</td>\n",
       "      <td>0.256983</td>\n",
       "    </tr>\n",
       "    <tr>\n",
       "      <td>14</td>\n",
       "      <td>0.137900</td>\n",
       "      <td>0.260410</td>\n",
       "    </tr>\n",
       "    <tr>\n",
       "      <td>15</td>\n",
       "      <td>0.140400</td>\n",
       "      <td>0.264578</td>\n",
       "    </tr>\n",
       "    <tr>\n",
       "      <td>16</td>\n",
       "      <td>0.146100</td>\n",
       "      <td>0.265460</td>\n",
       "    </tr>\n",
       "    <tr>\n",
       "      <td>17</td>\n",
       "      <td>0.112400</td>\n",
       "      <td>0.266100</td>\n",
       "    </tr>\n",
       "  </tbody>\n",
       "</table><p>"
      ],
      "text/plain": [
       "<IPython.core.display.HTML object>"
      ]
     },
     "metadata": {},
     "output_type": "display_data"
    }
   ],
   "source": [
    "import torch\n",
    "from transformers import AutoModelForCausalLM, AutoTokenizer, TrainingArguments, Trainer\n",
    "from datasets import load_dataset\n",
    "from peft import get_peft_model, LoraConfig, TaskType\n",
    "\n",
    "# Načtení a rozdělení datasetu na trénink a evaluaci modelu\n",
    "dataset = load_dataset(\"json\", data_files=\"everything_finetunning.json\", field='train') #, field='train'\n",
    "train_test = dataset[\"train\"].train_test_split(test_size=0.1)  \n",
    "train_dataset = train_test[\"train\"]\n",
    "eval_dataset = train_test[\"test\"]\n",
    "\n",
    "# Načtení modelu deepseek a tokenizeru (potřebné pro přeměnu čistého textu na tokeny, kterým model rozumí\n",
    "model_name = \"deepseek-ai/DeepSeek-R1-Distill-Qwen-7B\"\n",
    "tokenizer = AutoTokenizer.from_pretrained(model_name)\n",
    "model = AutoModelForCausalLM.from_pretrained(model_name, torch_dtype=\"auto\", device_map=\"auto\")\n",
    "\n",
    "# Nastavení LoRA (r = vliv fine-tuningu na vybrane parametry, lora_alpha = škálování finálního výstupu, lora_dropout = proti přeučení modelu, task_type = typ fine-tuningu\n",
    "lora_config = LoraConfig(\n",
    "    r=8,  # nebo 16\n",
    "    lora_alpha=32,  # nebo 64\n",
    "    lora_dropout=0.1,  \n",
    "    task_type=TaskType.CAUSAL_LM  \n",
    ")\n",
    "\n",
    "# načtení modelu pro fine-tunining\n",
    "model = get_peft_model(model, lora_config)\n",
    "\n",
    "# Tokenizační funkce pro změnu textu na tokeny\n",
    "def tokenize_function(examples):\n",
    "    \n",
    "    inputs = tokenizer(examples[\"prompt\"], examples[\"response\"], truncation=True, padding=\"max_length\", max_length=1024)\n",
    "    inputs[\"labels\"] = inputs[\"input_ids\"].copy()  \n",
    "    return inputs\n",
    "\n",
    "# Převod trénovacích dat na tokeny pomocí tokenizační funkce\n",
    "tokenized_datasets = train_dataset.map(tokenize_function, batched=True)\n",
    "tokenized_eval = eval_dataset.map(tokenize_function, batched=True)\n",
    "\n",
    "# Parametry trénování. Parametry s vlivem na výstup jsou pospsány přímo v bakalařské práci.\n",
    "training_args = TrainingArguments(\n",
    "    output_dir=\"./results\",  \n",
    "    num_train_epochs=17,  \n",
    "    per_device_train_batch_size=1,  \n",
    "    per_device_eval_batch_size=1,  \n",
    "    gradient_accumulation_steps=1,  \n",
    "    save_strategy=\"epoch\",  \n",
    "    logging_dir=\"./logs\", \n",
    "    logging_steps=10, \n",
    "    optim=\"adamw_bnb_8bit\",  \n",
    "    save_total_limit=2,  \n",
    "    report_to=\"none\",  \n",
    "    evaluation_strategy=\"epoch\",  \n",
    "    learning_rate=5e-5,  \n",
    "    weight_decay=0.01, \n",
    "    load_best_model_at_end=True,  \n",
    "    metric_for_best_model=\"eval_loss\",  \n",
    ")\n",
    "\n",
    "# Definice modulu Trainer\n",
    "trainer = Trainer(\n",
    "    model=model,\n",
    "    args=training_args,\n",
    "    train_dataset=tokenized_datasets,\n",
    "    eval_dataset=tokenized_eval,\n",
    "    tokenizer=tokenizer\n",
    ")\n",
    "\n",
    "# Inicializeca trénování\n",
    "trainer.train()\n",
    "\n",
    "# Uložení výsledků\n",
    "trainer.save_model(\"./r8_mine_deepseek\")"
   ]
  },
  {
   "cell_type": "code",
   "execution_count": null,
   "id": "ec8c4192-ebf7-4cbf-b749-b40bb4d4c38a",
   "metadata": {},
   "outputs": [],
   "source": []
  },
  {
   "cell_type": "code",
   "execution_count": null,
   "id": "9d117bc1-a908-481d-b714-e4afdcb0cb5e",
   "metadata": {},
   "outputs": [],
   "source": []
  }
 ],
 "metadata": {
  "kernelspec": {
   "display_name": "Python 3 (ipykernel)",
   "language": "python",
   "name": "python3"
  },
  "language_info": {
   "codemirror_mode": {
    "name": "ipython",
    "version": 3
   },
   "file_extension": ".py",
   "mimetype": "text/x-python",
   "name": "python",
   "nbconvert_exporter": "python",
   "pygments_lexer": "ipython3",
   "version": "3.10.16"
  }
 },
 "nbformat": 4,
 "nbformat_minor": 5
}
