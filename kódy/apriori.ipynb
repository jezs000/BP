{
 "cells": [
  {
   "cell_type": "code",
   "execution_count": null,
   "id": "2a2e6a28-b893-4af4-8573-7b6df8189799",
   "metadata": {},
   "outputs": [],
   "source": [
    "import pandas as pd\n",
    "from mlxtend.frequent_patterns import apriori\n",
    "\n",
    "# Načtení dat\n",
    "file_path = \"název_csv.csv\"  # Uprav cestu k souboru podle potřeby\n",
    "df = pd.read_csv(file_path)\n",
    "\n",
    "# Převod číselných a boolean sloupců na string pro správné hledání itemsetů\n",
    "num_cols = df.select_dtypes(include=[\"number\"]).columns\n",
    "df[num_cols] = df[num_cols].astype(str)\n",
    "bool_cols = df.select_dtypes(include=bool).columns  \n",
    "df[bool_cols] = df[bool_cols].astype(str)\n",
    "\n",
    "# Přímá binarizace kategoriálních hodnot\n",
    "one_hot = pd.get_dummies(df)\n",
    "one_hot = one_hot.map(lambda x: 1 if x > 0 else 0)\n",
    "\n",
    "support = ručně_zvolený_support # Support byl na každém csv hledán ručně pro správný počet výsledných itemsetů\n",
    "maxlen = 5 # Vždy hodnota 5\n",
    "\n",
    "# Generování častých itemsetů\n",
    "frequent_itemsets = apriori(one_hot, min_support=support, use_colnames=True, max_len=maxlen)\n",
    "\n",
    "# Mapování hodnot zpět na názvy sloupců\n",
    "frequent_itemsets[\"itemsets\"] = frequent_itemsets[\"itemsets\"].apply(lambda x: ', '.join(x))\n",
    "\n",
    "# Nastavení formátu výstupů a jejich následné vytisknutí\n",
    "pd.set_option(\"display.width\", 200)  \n",
    "pd.set_option(\"display.max_columns\", None)  \n",
    "pd.set_option(\"display.max_colwidth\", None)\n",
    "print(frequent_itemsets[[\"support\", \"itemsets\"]])"
   ]
  }
 ],
 "metadata": {
  "kernelspec": {
   "display_name": "Python 3 (ipykernel)",
   "language": "python",
   "name": "python3"
  },
  "language_info": {
   "codemirror_mode": {
    "name": "ipython",
    "version": 3
   },
   "file_extension": ".py",
   "mimetype": "text/x-python",
   "name": "python",
   "nbconvert_exporter": "python",
   "pygments_lexer": "ipython3",
   "version": "3.10.16"
  }
 },
 "nbformat": 4,
 "nbformat_minor": 5
}
