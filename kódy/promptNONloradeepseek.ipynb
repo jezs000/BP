{
 "cells": [
  {
   "cell_type": "code",
   "execution_count": 2,
   "id": "38cf1695-784e-4919-86dc-c059ddb74ec8",
   "metadata": {},
   "outputs": [
    {
     "data": {
      "application/vnd.jupyter.widget-view+json": {
       "model_id": "c5713b3fb14d4edaa926709d848ff5c8",
       "version_major": 2,
       "version_minor": 0
      },
      "text/plain": [
       "Loading checkpoint shards:   0%|          | 0/2 [00:00<?, ?it/s]"
      ]
     },
     "metadata": {},
     "output_type": "display_data"
    },
    {
     "name": "stderr",
     "output_type": "stream",
     "text": [
      "Setting `pad_token_id` to `eos_token_id`:151643 for open-end generation.\n"
     ]
    },
    {
     "name": "stdout",
     "output_type": "stream",
     "text": [
      "✅ Výstup byl uložen do 'model_output.txt'\n"
     ]
    }
   ],
   "source": [
    "import pandas as pd\n",
    "import torch\n",
    "from transformers import AutoTokenizer, AutoModelForCausalLM\n",
    "\n",
    "# Cesta k základnímu modelu a vstupním datům\n",
    "base_model_path = \"deepseek-ai/DeepSeek-R1-Distill-Qwen-7B\"  \n",
    "csv_file = \"CSV-Hashed.csv\"\n",
    "\n",
    "# Načtení modelu\n",
    "model = AutoModelForCausalLM.from_pretrained(\n",
    "    base_model_path,\n",
    "    device_map=\"auto\",\n",
    "    torch_dtype=torch.float16,\n",
    "    trust_remote_code=True\n",
    ")\n",
    "model.eval()\n",
    "\n",
    "# Načtení tokenizeru\n",
    "tokenizer = AutoTokenizer.from_pretrained(\n",
    "    base_model_path,\n",
    "    trust_remote_code=True\n",
    ")\n",
    "\n",
    "# Načtení a zpracování CSV\n",
    "df = pd.read_csv(csv_file)\n",
    "csv_text = df.to_csv(index=False)  # převedeno na text\n",
    "\n",
    "# Vytvoření promptu\n",
    "prompt = f\"I will give you CSV and your job is to find frequent itemsets of maxlenght 5 with support 0.75. Do not use any code, it is your job to do!\\n{csv_text}\\n\\n\"\n",
    "\n",
    "# Tokenizace vstupu\n",
    "inputs = tokenizer(prompt, return_tensors=\"pt\").to(model.device)\n",
    "\n",
    "# Generování výstupu\n",
    "with torch.no_grad():\n",
    "    outputs = model.generate(\n",
    "        **inputs,\n",
    "        max_new_tokens=5000, # Zvolena vysoká hodnota pro možnost generování rozsáhlých odpovědí. Vyšší hodnota způsobovala zamrznutí modelu (nízká VRAM)\n",
    "        temperature=1  # nebo 0, nebo 0.5\n",
    "    )\n",
    "    decoded_output = tokenizer.decode(outputs[0], skip_special_tokens=True)\n",
    "\n",
    "# === Uložení výstupu ===\n",
    "with open(\"model_output.txt\", \"w\", encoding=\"utf-8\") as f:\n",
    "    f.write(decoded_output)\n",
    "\n",
    "print(\"✅ Výstup byl uložen do 'model_output.txt'\")\n"
   ]
  },
  {
   "cell_type": "code",
   "execution_count": null,
   "id": "cb75ab4a-cd42-4020-9b81-7d28a279d4b7",
   "metadata": {},
   "outputs": [],
   "source": []
  }
 ],
 "metadata": {
  "kernelspec": {
   "display_name": "Python 3 (ipykernel)",
   "language": "python",
   "name": "python3"
  },
  "language_info": {
   "codemirror_mode": {
    "name": "ipython",
    "version": 3
   },
   "file_extension": ".py",
   "mimetype": "text/x-python",
   "name": "python",
   "nbconvert_exporter": "python",
   "pygments_lexer": "ipython3",
   "version": "3.10.16"
  }
 },
 "nbformat": 4,
 "nbformat_minor": 5
}
